{
 "cells": [
  {
   "cell_type": "code",
   "execution_count": 1,
   "metadata": {},
   "outputs": [],
   "source": [
    "import pandas as pd\n",
    "import numpy as np\n",
    "import matplotlib.pyplot as plt\n",
    "import os"
   ]
  },
  {
   "cell_type": "markdown",
   "metadata": {},
   "source": [
    "# Overview of data"
   ]
  },
  {
   "cell_type": "code",
   "execution_count": 2,
   "metadata": {},
   "outputs": [],
   "source": [
    "board = pd.read_csv('cardboard.csv')\n",
    "commingled = pd.read_csv('commingled.csv')\n",
    "organic = pd.read_csv('organic.csv')\n",
    "poly = pd.read_csv(\"poly.csv\")\n",
    "master = pd.read_csv(\"master.csv\")"
   ]
  },
  {
   "cell_type": "code",
   "execution_count": 3,
   "metadata": {},
   "outputs": [
    {
     "name": "stdout",
     "output_type": "stream",
     "text": [
      "(53, 10)\n",
      "(366, 12)\n",
      "(366, 7)\n",
      "(53, 10)\n",
      "12/01/2019 12:00:00 AM\n",
      "01/01/2010 12:00:00 AM\n"
     ]
    }
   ],
   "source": [
    "print(board.shape)\n",
    "print(commingled.shape) # identical twins\n",
    "print(organic.shape) # identical twins\n",
    "print(poly.shape)\n",
    "\n",
    "print(master['date'].max())\n",
    "print(master['date'].min())"
   ]
  },
  {
   "cell_type": "code",
   "execution_count": 4,
   "metadata": {},
   "outputs": [
    {
     "name": "stdout",
     "output_type": "stream",
     "text": [
      "1\n"
     ]
    },
    {
     "data": {
      "text/html": [
       "<div>\n",
       "<style scoped>\n",
       "    .dataframe tbody tr th:only-of-type {\n",
       "        vertical-align: middle;\n",
       "    }\n",
       "\n",
       "    .dataframe tbody tr th {\n",
       "        vertical-align: top;\n",
       "    }\n",
       "\n",
       "    .dataframe thead th {\n",
       "        text-align: right;\n",
       "    }\n",
       "</style>\n",
       "<table border=\"1\" class=\"dataframe\">\n",
       "  <thead>\n",
       "    <tr style=\"text-align: right;\">\n",
       "      <th></th>\n",
       "      <th>Day</th>\n",
       "      <th>Date</th>\n",
       "      <th>Number of 1100-litre bins filled</th>\n",
       "      <th>Time bin 1 spot check weight recorded</th>\n",
       "      <th>Time bin 2 spot check weight recorded</th>\n",
       "      <th>Time bin 3 spot check weight recorded</th>\n",
       "      <th>Time bin 4 spot check weight recorded</th>\n",
       "      <th>Time bin 5 spot check weight recorded</th>\n",
       "      <th>Daily Estimated Net Weight (kg)</th>\n",
       "      <th>column 9</th>\n",
       "      <th>column 10</th>\n",
       "      <th>column 11</th>\n",
       "    </tr>\n",
       "  </thead>\n",
       "  <tbody>\n",
       "  </tbody>\n",
       "</table>\n",
       "</div>"
      ],
      "text/plain": [
       "Empty DataFrame\n",
       "Columns: [Day, Date, Number of 1100-litre bins filled, Time bin 1 spot check weight recorded, Time bin 2 spot check weight recorded, Time bin 3 spot check weight recorded, Time bin 4 spot check weight recorded, Time bin 5 spot check weight recorded, Daily Estimated Net Weight (kg), column 9, column 10, column 11]\n",
       "Index: []"
      ]
     },
     "execution_count": 4,
     "metadata": {},
     "output_type": "execute_result"
    }
   ],
   "source": [
    "# Quick analysis, 1 missing value spotted\n",
    "print(len(commingled[commingled['Daily Estimated Net Weight (kg)'].isnull()]))\n",
    "commingled.fillna(method= 'ffill', inplace = True)\n",
    "commingled[commingled['Daily Estimated Net Weight (kg)'].isnull()]"
   ]
  },
  {
   "cell_type": "code",
   "execution_count": 5,
   "metadata": {},
   "outputs": [
    {
     "name": "stdout",
     "output_type": "stream",
     "text": [
      "7\n"
     ]
    },
    {
     "data": {
      "text/html": [
       "<div>\n",
       "<style scoped>\n",
       "    .dataframe tbody tr th:only-of-type {\n",
       "        vertical-align: middle;\n",
       "    }\n",
       "\n",
       "    .dataframe tbody tr th {\n",
       "        vertical-align: top;\n",
       "    }\n",
       "\n",
       "    .dataframe thead th {\n",
       "        text-align: right;\n",
       "    }\n",
       "</style>\n",
       "<table border=\"1\" class=\"dataframe\">\n",
       "  <thead>\n",
       "    <tr style=\"text-align: right;\">\n",
       "      <th></th>\n",
       "      <th>Day</th>\n",
       "      <th>Date</th>\n",
       "      <th>Gross Weight: Bin 1 (kg)</th>\n",
       "      <th>Gross Weight: Bin 2 (kg)</th>\n",
       "      <th>Gross Weight: Bin 3 (kg)</th>\n",
       "      <th>Gross Weight: Bin 4 (kg)</th>\n",
       "      <th>Daily Estimated Net Weight (kg)</th>\n",
       "    </tr>\n",
       "  </thead>\n",
       "  <tbody>\n",
       "  </tbody>\n",
       "</table>\n",
       "</div>"
      ],
      "text/plain": [
       "Empty DataFrame\n",
       "Columns: [Day, Date, Gross Weight: Bin 1 (kg), Gross Weight: Bin 2 (kg), Gross Weight: Bin 3 (kg), Gross Weight: Bin 4 (kg), Daily Estimated Net Weight (kg)]\n",
       "Index: []"
      ]
     },
     "execution_count": 5,
     "metadata": {},
     "output_type": "execute_result"
    }
   ],
   "source": [
    "# 7 missing values spotted, use ffill(method)\n",
    "print(len(organic[organic['Daily Estimated Net Weight (kg)'].isnull()]))\n",
    "organic.fillna(method = 'ffill', inplace = True)\n",
    "organic[organic['Daily Estimated Net Weight (kg)'].isnull()]"
   ]
  },
  {
   "cell_type": "code",
   "execution_count": 6,
   "metadata": {},
   "outputs": [
    {
     "name": "stdout",
     "output_type": "stream",
     "text": [
      "23\n"
     ]
    },
    {
     "data": {
      "text/html": [
       "<div>\n",
       "<style scoped>\n",
       "    .dataframe tbody tr th:only-of-type {\n",
       "        vertical-align: middle;\n",
       "    }\n",
       "\n",
       "    .dataframe tbody tr th {\n",
       "        vertical-align: top;\n",
       "    }\n",
       "\n",
       "    .dataframe thead th {\n",
       "        text-align: right;\n",
       "    }\n",
       "</style>\n",
       "<table border=\"1\" class=\"dataframe\">\n",
       "  <thead>\n",
       "    <tr style=\"text-align: right;\">\n",
       "      <th></th>\n",
       "      <th>Week Beginning Date</th>\n",
       "      <th>Monday</th>\n",
       "      <th>Tuesday</th>\n",
       "      <th>Wednesday</th>\n",
       "      <th>Thursday</th>\n",
       "      <th>Friday</th>\n",
       "      <th>Saturday</th>\n",
       "      <th>Sunday</th>\n",
       "      <th>Weekly Total (bags)</th>\n",
       "      <th>Weekly Estimated Total (kg)</th>\n",
       "    </tr>\n",
       "  </thead>\n",
       "  <tbody>\n",
       "    <tr>\n",
       "      <th>0</th>\n",
       "      <td>01/01/2016 12:00:00 AM</td>\n",
       "      <td>NaN</td>\n",
       "      <td>NaN</td>\n",
       "      <td>NaN</td>\n",
       "      <td>NaN</td>\n",
       "      <td>NaN</td>\n",
       "      <td>NaN</td>\n",
       "      <td>NaN</td>\n",
       "      <td>NaN</td>\n",
       "      <td>NaN</td>\n",
       "    </tr>\n",
       "    <tr>\n",
       "      <th>2</th>\n",
       "      <td>01/11/2016 12:00:00 AM</td>\n",
       "      <td>NaN</td>\n",
       "      <td>NaN</td>\n",
       "      <td>NaN</td>\n",
       "      <td>NaN</td>\n",
       "      <td>NaN</td>\n",
       "      <td>NaN</td>\n",
       "      <td>NaN</td>\n",
       "      <td>NaN</td>\n",
       "      <td>NaN</td>\n",
       "    </tr>\n",
       "    <tr>\n",
       "      <th>12</th>\n",
       "      <td>03/21/2016 12:00:00 AM</td>\n",
       "      <td>NaN</td>\n",
       "      <td>NaN</td>\n",
       "      <td>NaN</td>\n",
       "      <td>NaN</td>\n",
       "      <td>NaN</td>\n",
       "      <td>NaN</td>\n",
       "      <td>NaN</td>\n",
       "      <td>NaN</td>\n",
       "      <td>NaN</td>\n",
       "    </tr>\n",
       "    <tr>\n",
       "      <th>19</th>\n",
       "      <td>05/09/2016 12:00:00 AM</td>\n",
       "      <td>NaN</td>\n",
       "      <td>NaN</td>\n",
       "      <td>NaN</td>\n",
       "      <td>NaN</td>\n",
       "      <td>NaN</td>\n",
       "      <td>NaN</td>\n",
       "      <td>NaN</td>\n",
       "      <td>NaN</td>\n",
       "      <td>NaN</td>\n",
       "    </tr>\n",
       "    <tr>\n",
       "      <th>27</th>\n",
       "      <td>07/04/2016 12:00:00 AM</td>\n",
       "      <td>NaN</td>\n",
       "      <td>NaN</td>\n",
       "      <td>NaN</td>\n",
       "      <td>NaN</td>\n",
       "      <td>NaN</td>\n",
       "      <td>NaN</td>\n",
       "      <td>NaN</td>\n",
       "      <td>NaN</td>\n",
       "      <td>NaN</td>\n",
       "    </tr>\n",
       "  </tbody>\n",
       "</table>\n",
       "</div>"
      ],
      "text/plain": [
       "       Week Beginning Date Monday Tuesday Wednesday Thursday Friday Saturday  \\\n",
       "0   01/01/2016 12:00:00 AM    NaN     NaN       NaN      NaN    NaN      NaN   \n",
       "2   01/11/2016 12:00:00 AM    NaN     NaN       NaN      NaN    NaN      NaN   \n",
       "12  03/21/2016 12:00:00 AM    NaN     NaN       NaN      NaN    NaN      NaN   \n",
       "19  05/09/2016 12:00:00 AM    NaN     NaN       NaN      NaN    NaN      NaN   \n",
       "27  07/04/2016 12:00:00 AM    NaN     NaN       NaN      NaN    NaN      NaN   \n",
       "\n",
       "    Sunday  Weekly Total (bags)  Weekly Estimated Total (kg)  \n",
       "0      NaN                  NaN                          NaN  \n",
       "2      NaN                  NaN                          NaN  \n",
       "12     NaN                  NaN                          NaN  \n",
       "19     NaN                  NaN                          NaN  \n",
       "27     NaN                  NaN                          NaN  "
      ]
     },
     "execution_count": 6,
     "metadata": {},
     "output_type": "execute_result"
    }
   ],
   "source": [
    "# Number of missing values relatively high, 23/53; therefore, not valuing greatly\n",
    "print(len(poly[poly['Weekly Estimated Total (kg)'].isnull()]))\n",
    "poly[poly['Weekly Estimated Total (kg)'].isnull()].head()"
   ]
  },
  {
   "cell_type": "code",
   "execution_count": 7,
   "metadata": {},
   "outputs": [
    {
     "data": {
      "text/html": [
       "<div>\n",
       "<style scoped>\n",
       "    .dataframe tbody tr th:only-of-type {\n",
       "        vertical-align: middle;\n",
       "    }\n",
       "\n",
       "    .dataframe tbody tr th {\n",
       "        vertical-align: top;\n",
       "    }\n",
       "\n",
       "    .dataframe thead th {\n",
       "        text-align: right;\n",
       "    }\n",
       "</style>\n",
       "<table border=\"1\" class=\"dataframe\">\n",
       "  <thead>\n",
       "    <tr style=\"text-align: right;\">\n",
       "      <th></th>\n",
       "      <th>Week Beginning Date</th>\n",
       "      <th>Monday</th>\n",
       "      <th>Tuesday</th>\n",
       "      <th>Wednesday</th>\n",
       "      <th>Thursday</th>\n",
       "      <th>Friday</th>\n",
       "      <th>Saturday</th>\n",
       "      <th>Sunday</th>\n",
       "      <th>Bales collected</th>\n",
       "      <th>Estimated weight of cardboard (kg)</th>\n",
       "    </tr>\n",
       "  </thead>\n",
       "  <tbody>\n",
       "  </tbody>\n",
       "</table>\n",
       "</div>"
      ],
      "text/plain": [
       "Empty DataFrame\n",
       "Columns: [Week Beginning Date, Monday, Tuesday, Wednesday, Thursday, Friday, Saturday, Sunday, Bales collected, Estimated weight of cardboard (kg)]\n",
       "Index: []"
      ]
     },
     "execution_count": 7,
     "metadata": {},
     "output_type": "execute_result"
    }
   ],
   "source": [
    "board[board['Estimated weight of cardboard (kg)'].isnull()] # Good quality"
   ]
  },
  {
   "cell_type": "code",
   "execution_count": 8,
   "metadata": {},
   "outputs": [],
   "source": [
    "master = pd.read_csv('master.csv')"
   ]
  },
  {
   "cell_type": "code",
   "execution_count": 9,
   "metadata": {},
   "outputs": [
    {
     "data": {
      "text/html": [
       "<div>\n",
       "<style scoped>\n",
       "    .dataframe tbody tr th:only-of-type {\n",
       "        vertical-align: middle;\n",
       "    }\n",
       "\n",
       "    .dataframe tbody tr th {\n",
       "        vertical-align: top;\n",
       "    }\n",
       "\n",
       "    .dataframe thead th {\n",
       "        text-align: right;\n",
       "    }\n",
       "</style>\n",
       "<table border=\"1\" class=\"dataframe\">\n",
       "  <thead>\n",
       "    <tr style=\"text-align: right;\">\n",
       "      <th></th>\n",
       "      <th>date</th>\n",
       "      <th>residential</th>\n",
       "      <th>public_litter_bins</th>\n",
       "      <th>dumped_rubbish</th>\n",
       "      <th>street_sweepings</th>\n",
       "      <th>mattresses</th>\n",
       "      <th>commingled_recycling</th>\n",
       "      <th>cardboard</th>\n",
       "      <th>hardwaste_to_landfill</th>\n",
       "      <th>hardwaste_recovered</th>\n",
       "      <th>hardwaste_total</th>\n",
       "      <th>green_waste</th>\n",
       "      <th>month</th>\n",
       "    </tr>\n",
       "  </thead>\n",
       "  <tbody>\n",
       "    <tr>\n",
       "      <th>0</th>\n",
       "      <td>02/01/2015 12:00:00 AM</td>\n",
       "      <td>1867.96</td>\n",
       "      <td>365.13</td>\n",
       "      <td>179.25</td>\n",
       "      <td>307.66</td>\n",
       "      <td>312</td>\n",
       "      <td>558.96</td>\n",
       "      <td>151.02</td>\n",
       "      <td>89.50</td>\n",
       "      <td>0.00</td>\n",
       "      <td>89.50</td>\n",
       "      <td>2.70</td>\n",
       "      <td>February</td>\n",
       "    </tr>\n",
       "    <tr>\n",
       "      <th>1</th>\n",
       "      <td>05/01/2016 12:00:00 AM</td>\n",
       "      <td>2418.20</td>\n",
       "      <td>326.52</td>\n",
       "      <td>200.66</td>\n",
       "      <td>433.06</td>\n",
       "      <td>209</td>\n",
       "      <td>702.07</td>\n",
       "      <td>199.68</td>\n",
       "      <td>19.74</td>\n",
       "      <td>40.92</td>\n",
       "      <td>60.66</td>\n",
       "      <td>3.08</td>\n",
       "      <td>May</td>\n",
       "    </tr>\n",
       "    <tr>\n",
       "      <th>2</th>\n",
       "      <td>01/01/2015 12:00:00 AM</td>\n",
       "      <td>1958.38</td>\n",
       "      <td>328.79</td>\n",
       "      <td>147.72</td>\n",
       "      <td>345.68</td>\n",
       "      <td>501</td>\n",
       "      <td>642.18</td>\n",
       "      <td>132.66</td>\n",
       "      <td>85.52</td>\n",
       "      <td>0.00</td>\n",
       "      <td>85.52</td>\n",
       "      <td>3.52</td>\n",
       "      <td>January</td>\n",
       "    </tr>\n",
       "    <tr>\n",
       "      <th>3</th>\n",
       "      <td>02/01/2016 12:00:00 AM</td>\n",
       "      <td>2202.28</td>\n",
       "      <td>281.46</td>\n",
       "      <td>151.18</td>\n",
       "      <td>293.00</td>\n",
       "      <td>173</td>\n",
       "      <td>708.31</td>\n",
       "      <td>196.96</td>\n",
       "      <td>41.72</td>\n",
       "      <td>19.12</td>\n",
       "      <td>60.84</td>\n",
       "      <td>5.56</td>\n",
       "      <td>February</td>\n",
       "    </tr>\n",
       "    <tr>\n",
       "      <th>4</th>\n",
       "      <td>02/01/2011 12:00:00 AM</td>\n",
       "      <td>1644.12</td>\n",
       "      <td>300.24</td>\n",
       "      <td>138.70</td>\n",
       "      <td>530.52</td>\n",
       "      <td>117</td>\n",
       "      <td>512.66</td>\n",
       "      <td>176.48</td>\n",
       "      <td>23.80</td>\n",
       "      <td>0.00</td>\n",
       "      <td>23.80</td>\n",
       "      <td>6.54</td>\n",
       "      <td>February</td>\n",
       "    </tr>\n",
       "  </tbody>\n",
       "</table>\n",
       "</div>"
      ],
      "text/plain": [
       "                     date  residential  public_litter_bins  dumped_rubbish  \\\n",
       "0  02/01/2015 12:00:00 AM      1867.96              365.13          179.25   \n",
       "1  05/01/2016 12:00:00 AM      2418.20              326.52          200.66   \n",
       "2  01/01/2015 12:00:00 AM      1958.38              328.79          147.72   \n",
       "3  02/01/2016 12:00:00 AM      2202.28              281.46          151.18   \n",
       "4  02/01/2011 12:00:00 AM      1644.12              300.24          138.70   \n",
       "\n",
       "   street_sweepings  mattresses  commingled_recycling  cardboard  \\\n",
       "0            307.66         312                558.96     151.02   \n",
       "1            433.06         209                702.07     199.68   \n",
       "2            345.68         501                642.18     132.66   \n",
       "3            293.00         173                708.31     196.96   \n",
       "4            530.52         117                512.66     176.48   \n",
       "\n",
       "   hardwaste_to_landfill  hardwaste_recovered  hardwaste_total  green_waste  \\\n",
       "0                  89.50                 0.00            89.50         2.70   \n",
       "1                  19.74                40.92            60.66         3.08   \n",
       "2                  85.52                 0.00            85.52         3.52   \n",
       "3                  41.72                19.12            60.84         5.56   \n",
       "4                  23.80                 0.00            23.80         6.54   \n",
       "\n",
       "      month  \n",
       "0  February  \n",
       "1       May  \n",
       "2   January  \n",
       "3  February  \n",
       "4  February  "
      ]
     },
     "execution_count": 9,
     "metadata": {},
     "output_type": "execute_result"
    }
   ],
   "source": [
    "master.head() # Good quality"
   ]
  },
  {
   "cell_type": "markdown",
   "metadata": {},
   "source": [
    "# Data wrangling (for visualization and analysis)"
   ]
  },
  {
   "cell_type": "code",
   "execution_count": 10,
   "metadata": {},
   "outputs": [
    {
     "name": "stdout",
     "output_type": "stream",
     "text": [
      "Index(['Day', 'Date', 'Number of 1100-litre bins filled',\n",
      "       'Time bin 1 spot check weight recorded',\n",
      "       'Time bin 2 spot check weight recorded',\n",
      "       'Time bin 3 spot check weight recorded',\n",
      "       'Time bin 4 spot check weight recorded',\n",
      "       'Time bin 5 spot check weight recorded',\n",
      "       'Daily Estimated Net Weight (kg)', 'column 9', 'column 10',\n",
      "       'column 11'],\n",
      "      dtype='object')\n",
      "Index(['Day', 'Date', 'Gross Weight: Bin 1 (kg)', 'Gross Weight: Bin 2 (kg)',\n",
      "       'Gross Weight: Bin 3 (kg)', 'Gross Weight: Bin 4 (kg)',\n",
      "       'Daily Estimated Net Weight (kg)'],\n",
      "      dtype='object')\n",
      "Index(['Week Beginning Date', 'Monday', 'Tuesday', 'Wednesday', 'Thursday',\n",
      "       'Friday', 'Saturday', 'Sunday', 'Weekly Total (bags)',\n",
      "       'Weekly Estimated Total (kg)'],\n",
      "      dtype='object')\n",
      "Index(['Week Beginning Date', 'Monday', 'Tuesday', 'Wednesday', 'Thursday',\n",
      "       'Friday', 'Saturday', 'Sunday', 'Bales collected',\n",
      "       'Estimated weight of cardboard (kg)'],\n",
      "      dtype='object')\n"
     ]
    }
   ],
   "source": [
    "print(commingled.columns)\n",
    "print(organic.columns)\n",
    "print(poly.columns)\n",
    "print(board.columns)"
   ]
  },
  {
   "cell_type": "code",
   "execution_count": 11,
   "metadata": {},
   "outputs": [],
   "source": [
    "# Classifying into daily and weekly datasets\n",
    "day_data = [commingled, organic]\n",
    "week_data = [poly, board]"
   ]
  },
  {
   "cell_type": "code",
   "execution_count": 12,
   "metadata": {},
   "outputs": [],
   "source": [
    "# Functions to append the column month/week showing which month/week the instance is recorded\n",
    "def classify_months(x):\n",
    "    return x.month\n",
    "def classify_weeks(x):\n",
    "    return x.week\n",
    "for dataset in day_data:\n",
    "    dataset['Date'] = pd.to_datetime(dataset['Date'])\n",
    "    dataset['month'] = 2000\n",
    "    dataset['week'] = 2000\n",
    "    dataset['month'] = dataset['Date'].apply(lambda x: classify_months(x))\n",
    "    dataset['week'] = dataset['Date'].apply(lambda x: classify_weeks(x))\n",
    "for dataset in week_data:\n",
    "    dataset['Week Beginning Date'] = pd.to_datetime(dataset['Week Beginning Date'])\n",
    "    dataset['week'] = 2000\n",
    "    dataset['week'] = dataset['Week Beginning Date'].apply(lambda x: classify_weeks(x))"
   ]
  },
  {
   "cell_type": "markdown",
   "metadata": {},
   "source": [
    "## 1. Merging daily datasets to create commingled_organic dataset"
   ]
  },
  {
   "cell_type": "code",
   "execution_count": 13,
   "metadata": {},
   "outputs": [
    {
     "data": {
      "text/html": [
       "<div>\n",
       "<style scoped>\n",
       "    .dataframe tbody tr th:only-of-type {\n",
       "        vertical-align: middle;\n",
       "    }\n",
       "\n",
       "    .dataframe tbody tr th {\n",
       "        vertical-align: top;\n",
       "    }\n",
       "\n",
       "    .dataframe thead th {\n",
       "        text-align: right;\n",
       "    }\n",
       "</style>\n",
       "<table border=\"1\" class=\"dataframe\">\n",
       "  <thead>\n",
       "    <tr style=\"text-align: right;\">\n",
       "      <th></th>\n",
       "      <th>Date</th>\n",
       "      <th>Amounts of commingled waste</th>\n",
       "      <th>Amounts of organic waste</th>\n",
       "      <th>month</th>\n",
       "      <th>week</th>\n",
       "    </tr>\n",
       "  </thead>\n",
       "  <tbody>\n",
       "    <tr>\n",
       "      <th>0</th>\n",
       "      <td>2016-01-01</td>\n",
       "      <td>180.939</td>\n",
       "      <td>34.0</td>\n",
       "      <td>1</td>\n",
       "      <td>53</td>\n",
       "    </tr>\n",
       "    <tr>\n",
       "      <th>1</th>\n",
       "      <td>2016-01-02</td>\n",
       "      <td>60.313</td>\n",
       "      <td>35.7</td>\n",
       "      <td>1</td>\n",
       "      <td>53</td>\n",
       "    </tr>\n",
       "    <tr>\n",
       "      <th>2</th>\n",
       "      <td>2016-01-03</td>\n",
       "      <td>120.626</td>\n",
       "      <td>23.6</td>\n",
       "      <td>1</td>\n",
       "      <td>53</td>\n",
       "    </tr>\n",
       "    <tr>\n",
       "      <th>3</th>\n",
       "      <td>2016-01-04</td>\n",
       "      <td>241.252</td>\n",
       "      <td>169.5</td>\n",
       "      <td>1</td>\n",
       "      <td>1</td>\n",
       "    </tr>\n",
       "    <tr>\n",
       "      <th>4</th>\n",
       "      <td>2016-01-05</td>\n",
       "      <td>180.939</td>\n",
       "      <td>102.0</td>\n",
       "      <td>1</td>\n",
       "      <td>1</td>\n",
       "    </tr>\n",
       "    <tr>\n",
       "      <th>...</th>\n",
       "      <td>...</td>\n",
       "      <td>...</td>\n",
       "      <td>...</td>\n",
       "      <td>...</td>\n",
       "      <td>...</td>\n",
       "    </tr>\n",
       "    <tr>\n",
       "      <th>361</th>\n",
       "      <td>2016-12-27</td>\n",
       "      <td>180.939</td>\n",
       "      <td>77.1</td>\n",
       "      <td>12</td>\n",
       "      <td>52</td>\n",
       "    </tr>\n",
       "    <tr>\n",
       "      <th>362</th>\n",
       "      <td>2016-12-28</td>\n",
       "      <td>180.939</td>\n",
       "      <td>101.2</td>\n",
       "      <td>12</td>\n",
       "      <td>52</td>\n",
       "    </tr>\n",
       "    <tr>\n",
       "      <th>363</th>\n",
       "      <td>2016-12-29</td>\n",
       "      <td>180.939</td>\n",
       "      <td>113.5</td>\n",
       "      <td>12</td>\n",
       "      <td>52</td>\n",
       "    </tr>\n",
       "    <tr>\n",
       "      <th>364</th>\n",
       "      <td>2016-12-30</td>\n",
       "      <td>241.252</td>\n",
       "      <td>95.1</td>\n",
       "      <td>12</td>\n",
       "      <td>52</td>\n",
       "    </tr>\n",
       "    <tr>\n",
       "      <th>365</th>\n",
       "      <td>2016-12-31</td>\n",
       "      <td>241.252</td>\n",
       "      <td>97.3</td>\n",
       "      <td>12</td>\n",
       "      <td>52</td>\n",
       "    </tr>\n",
       "  </tbody>\n",
       "</table>\n",
       "<p>366 rows × 5 columns</p>\n",
       "</div>"
      ],
      "text/plain": [
       "          Date  Amounts of commingled waste  Amounts of organic waste  month  \\\n",
       "0   2016-01-01                      180.939                      34.0      1   \n",
       "1   2016-01-02                       60.313                      35.7      1   \n",
       "2   2016-01-03                      120.626                      23.6      1   \n",
       "3   2016-01-04                      241.252                     169.5      1   \n",
       "4   2016-01-05                      180.939                     102.0      1   \n",
       "..         ...                          ...                       ...    ...   \n",
       "361 2016-12-27                      180.939                      77.1     12   \n",
       "362 2016-12-28                      180.939                     101.2     12   \n",
       "363 2016-12-29                      180.939                     113.5     12   \n",
       "364 2016-12-30                      241.252                      95.1     12   \n",
       "365 2016-12-31                      241.252                      97.3     12   \n",
       "\n",
       "     week  \n",
       "0      53  \n",
       "1      53  \n",
       "2      53  \n",
       "3       1  \n",
       "4       1  \n",
       "..    ...  \n",
       "361    52  \n",
       "362    52  \n",
       "363    52  \n",
       "364    52  \n",
       "365    52  \n",
       "\n",
       "[366 rows x 5 columns]"
      ]
     },
     "execution_count": 13,
     "metadata": {},
     "output_type": "execute_result"
    }
   ],
   "source": [
    "commingled_organic = pd.merge(commingled, organic, how = 'outer', on= 'Date')\n",
    "commingled_organic['Date'] = pd.to_datetime(commingled_organic['Date'])\n",
    "commingled_organic = commingled_organic[['Date', 'Daily Estimated Net Weight (kg)_x', 'Daily Estimated Net Weight (kg)_y']]\n",
    "commingled_organic.rename({'Daily Estimated Net Weight (kg)_x': 'Amounts of commingled waste', 'Daily Estimated Net Weight (kg)_y': 'Amounts of organic waste'}, inplace = True, axis = 1)\n",
    "commingled_organic['month'] = 999\n",
    "commingled_organic['week']  = 999\n",
    "commingled_organic['week'] = commingled_organic['Date'].apply(lambda x: classify_weeks(x))\n",
    "commingled_organic['month'] = commingled_organic['Date'].apply(lambda x: classify_months(x))\n",
    "commingled_organic\n"
   ]
  },
  {
   "cell_type": "markdown",
   "metadata": {},
   "source": [
    "## 2. Merging weekly dataset to create board_poly dataset"
   ]
  },
  {
   "cell_type": "code",
   "execution_count": 14,
   "metadata": {},
   "outputs": [],
   "source": [
    "# merging weekly dataset to create board_poly dataset\n",
    "\n",
    "# Adding week and month column \n",
    "board_poly = pd.merge(board, poly, how = 'outer', on= 'Week Beginning Date')\n",
    "board_poly = board_poly[['Week Beginning Date', 'Weekly Estimated Total (kg)', 'Estimated weight of cardboard (kg)']]\n",
    "board_poly['Week Beginning Date'] = pd.to_datetime(board_poly['Week Beginning Date'])\n",
    "board_poly['month'] = 999\n",
    "board_poly['week']  = 999\n",
    "\n",
    "board_poly['week'] = board_poly['Week Beginning Date'].apply(lambda x: classify_weeks(x))\n",
    "board_poly['month'] = board_poly['Week Beginning Date'].apply(lambda x: classify_months(x))\n",
    "\n",
    "# Filling nan values\n",
    "mean_value = np.nanmean(board_poly['Weekly Estimated Total (kg)'])\n",
    "board_poly.fillna(mean_value, inplace = True)\n",
    "\n",
    "\n",
    "board_poly_week = board_poly.groupby('month').sum()[['Weekly Estimated Total (kg)', 'Estimated weight of cardboard (kg)']]"
   ]
  },
  {
   "cell_type": "code",
   "execution_count": 15,
   "metadata": {},
   "outputs": [
    {
     "data": {
      "text/html": [
       "<div>\n",
       "<style scoped>\n",
       "    .dataframe tbody tr th:only-of-type {\n",
       "        vertical-align: middle;\n",
       "    }\n",
       "\n",
       "    .dataframe tbody tr th {\n",
       "        vertical-align: top;\n",
       "    }\n",
       "\n",
       "    .dataframe thead th {\n",
       "        text-align: right;\n",
       "    }\n",
       "</style>\n",
       "<table border=\"1\" class=\"dataframe\">\n",
       "  <thead>\n",
       "    <tr style=\"text-align: right;\">\n",
       "      <th></th>\n",
       "      <th>Estimated Polystyrene Total (kg)</th>\n",
       "      <th>Estimated weight of cardboard (kg)</th>\n",
       "    </tr>\n",
       "    <tr>\n",
       "      <th>month</th>\n",
       "      <th></th>\n",
       "      <th></th>\n",
       "    </tr>\n",
       "  </thead>\n",
       "  <tbody>\n",
       "    <tr>\n",
       "      <th>1</th>\n",
       "      <td>53.226667</td>\n",
       "      <td>7250</td>\n",
       "    </tr>\n",
       "    <tr>\n",
       "      <th>2</th>\n",
       "      <td>83.850000</td>\n",
       "      <td>8250</td>\n",
       "    </tr>\n",
       "    <tr>\n",
       "      <th>3</th>\n",
       "      <td>58.863333</td>\n",
       "      <td>7000</td>\n",
       "    </tr>\n",
       "    <tr>\n",
       "      <th>4</th>\n",
       "      <td>25.800000</td>\n",
       "      <td>7250</td>\n",
       "    </tr>\n",
       "    <tr>\n",
       "      <th>5</th>\n",
       "      <td>91.113333</td>\n",
       "      <td>8000</td>\n",
       "    </tr>\n",
       "    <tr>\n",
       "      <th>6</th>\n",
       "      <td>51.600000</td>\n",
       "      <td>6250</td>\n",
       "    </tr>\n",
       "    <tr>\n",
       "      <th>7</th>\n",
       "      <td>79.026667</td>\n",
       "      <td>6500</td>\n",
       "    </tr>\n",
       "    <tr>\n",
       "      <th>8</th>\n",
       "      <td>50.200000</td>\n",
       "      <td>9250</td>\n",
       "    </tr>\n",
       "    <tr>\n",
       "      <th>9</th>\n",
       "      <td>54.853333</td>\n",
       "      <td>6000</td>\n",
       "    </tr>\n",
       "    <tr>\n",
       "      <th>10</th>\n",
       "      <td>68.566667</td>\n",
       "      <td>7750</td>\n",
       "    </tr>\n",
       "    <tr>\n",
       "      <th>11</th>\n",
       "      <td>54.853333</td>\n",
       "      <td>6750</td>\n",
       "    </tr>\n",
       "    <tr>\n",
       "      <th>12</th>\n",
       "      <td>54.853333</td>\n",
       "      <td>7750</td>\n",
       "    </tr>\n",
       "  </tbody>\n",
       "</table>\n",
       "</div>"
      ],
      "text/plain": [
       "       Estimated Polystyrene Total (kg)  Estimated weight of cardboard (kg)\n",
       "month                                                                      \n",
       "1                             53.226667                                7250\n",
       "2                             83.850000                                8250\n",
       "3                             58.863333                                7000\n",
       "4                             25.800000                                7250\n",
       "5                             91.113333                                8000\n",
       "6                             51.600000                                6250\n",
       "7                             79.026667                                6500\n",
       "8                             50.200000                                9250\n",
       "9                             54.853333                                6000\n",
       "10                            68.566667                                7750\n",
       "11                            54.853333                                6750\n",
       "12                            54.853333                                7750"
      ]
     },
     "execution_count": 15,
     "metadata": {},
     "output_type": "execute_result"
    }
   ],
   "source": [
    "new = board_poly_week.copy()\n",
    "new.rename({\"Weekly Estimated Total (kg)\": \"Estimated Polystyrene Total (kg)\"}, axis = 1)"
   ]
  },
  {
   "cell_type": "markdown",
   "metadata": {},
   "source": [
    "## 3. Preparing dataset for pie chart"
   ]
  },
  {
   "cell_type": "code",
   "execution_count": 16,
   "metadata": {},
   "outputs": [],
   "source": [
    "# Preparing for pie charts\n",
    "total_commingled_2016 = commingled_organic['Amounts of commingled waste'].sum(axis = 0)\n",
    "total_organic_2016 = commingled_organic['Amounts of organic waste'].sum(axis = 0)\n",
    "total_poly_2016 = board_poly['Weekly Estimated Total (kg)'].sum(axis = 0)\n",
    "total_cardboard_2016 = board_poly['Estimated weight of cardboard (kg)'].sum(axis = 0)\n",
    "values = [total_commingled_2016, total_organic_2016, total_poly_2016, total_cardboard_2016]\n",
    "waste_categories = ['commingled waste', 'Organic waste', 'Polystyrene', 'Cardboard']"
   ]
  },
  {
   "cell_type": "markdown",
   "metadata": {},
   "source": [
    "## 4. Combining the city of Melbourne dataset in 2016 with datasets of Degraves Center to show the center's recycling rate with regard to City of Melbourne"
   ]
  },
  {
   "cell_type": "code",
   "execution_count": 17,
   "metadata": {},
   "outputs": [],
   "source": [
    "master = pd.read_csv(\"master.csv\")\n",
    "master['date'] = pd.to_datetime(master['date'])\n",
    "master['year'] = 0\n",
    "def classify_years(x):\n",
    "    return x.year\n",
    "master['year'] = master['date'].apply(lambda x: classify_years(x))"
   ]
  },
  {
   "cell_type": "code",
   "execution_count": 18,
   "metadata": {},
   "outputs": [
    {
     "data": {
      "text/html": [
       "<div>\n",
       "<style scoped>\n",
       "    .dataframe tbody tr th:only-of-type {\n",
       "        vertical-align: middle;\n",
       "    }\n",
       "\n",
       "    .dataframe tbody tr th {\n",
       "        vertical-align: top;\n",
       "    }\n",
       "\n",
       "    .dataframe thead th {\n",
       "        text-align: right;\n",
       "    }\n",
       "</style>\n",
       "<table border=\"1\" class=\"dataframe\">\n",
       "  <thead>\n",
       "    <tr style=\"text-align: right;\">\n",
       "      <th></th>\n",
       "      <th>Amounts of commingled waste</th>\n",
       "      <th>Amounts of organic waste</th>\n",
       "      <th>Total_cardboard_2016</th>\n",
       "      <th>commingled_recycling</th>\n",
       "      <th>green_waste</th>\n",
       "      <th>cardboard</th>\n",
       "      <th>%commingled</th>\n",
       "      <th>%cardboard</th>\n",
       "      <th>%organic</th>\n",
       "    </tr>\n",
       "    <tr>\n",
       "      <th>month</th>\n",
       "      <th></th>\n",
       "      <th></th>\n",
       "      <th></th>\n",
       "      <th></th>\n",
       "      <th></th>\n",
       "      <th></th>\n",
       "      <th></th>\n",
       "      <th></th>\n",
       "      <th></th>\n",
       "    </tr>\n",
       "  </thead>\n",
       "  <tbody>\n",
       "    <tr>\n",
       "      <th>1</th>\n",
       "      <td>5669.422</td>\n",
       "      <td>3157.6</td>\n",
       "      <td>7250</td>\n",
       "      <td>715.00</td>\n",
       "      <td>3.60</td>\n",
       "      <td>176.38</td>\n",
       "      <td>0.792926</td>\n",
       "      <td>4.110443</td>\n",
       "      <td>12.530159</td>\n",
       "    </tr>\n",
       "    <tr>\n",
       "      <th>2</th>\n",
       "      <td>5005.979</td>\n",
       "      <td>3180.3</td>\n",
       "      <td>8250</td>\n",
       "      <td>708.31</td>\n",
       "      <td>5.56</td>\n",
       "      <td>196.96</td>\n",
       "      <td>0.706750</td>\n",
       "      <td>4.188668</td>\n",
       "      <td>8.171377</td>\n",
       "    </tr>\n",
       "    <tr>\n",
       "      <th>3</th>\n",
       "      <td>5548.796</td>\n",
       "      <td>3471.8</td>\n",
       "      <td>7000</td>\n",
       "      <td>749.20</td>\n",
       "      <td>1.68</td>\n",
       "      <td>201.34</td>\n",
       "      <td>0.740629</td>\n",
       "      <td>3.476706</td>\n",
       "      <td>29.522109</td>\n",
       "    </tr>\n",
       "    <tr>\n",
       "      <th>4</th>\n",
       "      <td>5729.735</td>\n",
       "      <td>2994.5</td>\n",
       "      <td>7250</td>\n",
       "      <td>672.57</td>\n",
       "      <td>5.28</td>\n",
       "      <td>189.00</td>\n",
       "      <td>0.851917</td>\n",
       "      <td>3.835979</td>\n",
       "      <td>8.102002</td>\n",
       "    </tr>\n",
       "    <tr>\n",
       "      <th>5</th>\n",
       "      <td>5367.857</td>\n",
       "      <td>2787.3</td>\n",
       "      <td>8000</td>\n",
       "      <td>702.07</td>\n",
       "      <td>3.08</td>\n",
       "      <td>199.68</td>\n",
       "      <td>0.764576</td>\n",
       "      <td>4.006410</td>\n",
       "      <td>12.928108</td>\n",
       "    </tr>\n",
       "    <tr>\n",
       "      <th>6</th>\n",
       "      <td>5005.979</td>\n",
       "      <td>2773.9</td>\n",
       "      <td>6250</td>\n",
       "      <td>668.04</td>\n",
       "      <td>3.32</td>\n",
       "      <td>201.04</td>\n",
       "      <td>0.749353</td>\n",
       "      <td>3.108834</td>\n",
       "      <td>11.935886</td>\n",
       "    </tr>\n",
       "    <tr>\n",
       "      <th>7</th>\n",
       "      <td>5367.857</td>\n",
       "      <td>3103.2</td>\n",
       "      <td>6500</td>\n",
       "      <td>642.76</td>\n",
       "      <td>3.94</td>\n",
       "      <td>228.58</td>\n",
       "      <td>0.835126</td>\n",
       "      <td>2.843643</td>\n",
       "      <td>11.251632</td>\n",
       "    </tr>\n",
       "    <tr>\n",
       "      <th>8</th>\n",
       "      <td>4825.040</td>\n",
       "      <td>2820.0</td>\n",
       "      <td>9250</td>\n",
       "      <td>662.92</td>\n",
       "      <td>3.30</td>\n",
       "      <td>213.28</td>\n",
       "      <td>0.727846</td>\n",
       "      <td>4.337022</td>\n",
       "      <td>12.207792</td>\n",
       "    </tr>\n",
       "    <tr>\n",
       "      <th>9</th>\n",
       "      <td>4945.666</td>\n",
       "      <td>2443.3</td>\n",
       "      <td>6000</td>\n",
       "      <td>625.22</td>\n",
       "      <td>4.38</td>\n",
       "      <td>210.16</td>\n",
       "      <td>0.791028</td>\n",
       "      <td>2.854968</td>\n",
       "      <td>7.969015</td>\n",
       "    </tr>\n",
       "    <tr>\n",
       "      <th>10</th>\n",
       "      <td>5548.796</td>\n",
       "      <td>2476.4</td>\n",
       "      <td>7750</td>\n",
       "      <td>655.44</td>\n",
       "      <td>10.72</td>\n",
       "      <td>205.06</td>\n",
       "      <td>0.846576</td>\n",
       "      <td>3.779382</td>\n",
       "      <td>3.300107</td>\n",
       "    </tr>\n",
       "    <tr>\n",
       "      <th>11</th>\n",
       "      <td>5247.231</td>\n",
       "      <td>2581.4</td>\n",
       "      <td>6750</td>\n",
       "      <td>753.24</td>\n",
       "      <td>11.38</td>\n",
       "      <td>223.64</td>\n",
       "      <td>0.696621</td>\n",
       "      <td>3.018244</td>\n",
       "      <td>3.240522</td>\n",
       "    </tr>\n",
       "    <tr>\n",
       "      <th>12</th>\n",
       "      <td>5488.483</td>\n",
       "      <td>2987.5</td>\n",
       "      <td>7750</td>\n",
       "      <td>753.95</td>\n",
       "      <td>5.56</td>\n",
       "      <td>235.50</td>\n",
       "      <td>0.727964</td>\n",
       "      <td>3.290870</td>\n",
       "      <td>7.676002</td>\n",
       "    </tr>\n",
       "  </tbody>\n",
       "</table>\n",
       "</div>"
      ],
      "text/plain": [
       "       Amounts of commingled waste  Amounts of organic waste  \\\n",
       "month                                                          \n",
       "1                         5669.422                    3157.6   \n",
       "2                         5005.979                    3180.3   \n",
       "3                         5548.796                    3471.8   \n",
       "4                         5729.735                    2994.5   \n",
       "5                         5367.857                    2787.3   \n",
       "6                         5005.979                    2773.9   \n",
       "7                         5367.857                    3103.2   \n",
       "8                         4825.040                    2820.0   \n",
       "9                         4945.666                    2443.3   \n",
       "10                        5548.796                    2476.4   \n",
       "11                        5247.231                    2581.4   \n",
       "12                        5488.483                    2987.5   \n",
       "\n",
       "       Total_cardboard_2016  commingled_recycling  green_waste  cardboard  \\\n",
       "month                                                                       \n",
       "1                      7250                715.00         3.60     176.38   \n",
       "2                      8250                708.31         5.56     196.96   \n",
       "3                      7000                749.20         1.68     201.34   \n",
       "4                      7250                672.57         5.28     189.00   \n",
       "5                      8000                702.07         3.08     199.68   \n",
       "6                      6250                668.04         3.32     201.04   \n",
       "7                      6500                642.76         3.94     228.58   \n",
       "8                      9250                662.92         3.30     213.28   \n",
       "9                      6000                625.22         4.38     210.16   \n",
       "10                     7750                655.44        10.72     205.06   \n",
       "11                     6750                753.24        11.38     223.64   \n",
       "12                     7750                753.95         5.56     235.50   \n",
       "\n",
       "       %commingled  %cardboard   %organic  \n",
       "month                                      \n",
       "1         0.792926    4.110443  12.530159  \n",
       "2         0.706750    4.188668   8.171377  \n",
       "3         0.740629    3.476706  29.522109  \n",
       "4         0.851917    3.835979   8.102002  \n",
       "5         0.764576    4.006410  12.928108  \n",
       "6         0.749353    3.108834  11.935886  \n",
       "7         0.835126    2.843643  11.251632  \n",
       "8         0.727846    4.337022  12.207792  \n",
       "9         0.791028    2.854968   7.969015  \n",
       "10        0.846576    3.779382   3.300107  \n",
       "11        0.696621    3.018244   3.240522  \n",
       "12        0.727964    3.290870   7.676002  "
      ]
     },
     "execution_count": 18,
     "metadata": {},
     "output_type": "execute_result"
    }
   ],
   "source": [
    "master_year = master.groupby('year').sum()[:-1]\n",
    "master_2016 = master[master['year'] == 2016]\n",
    "dict_replace = {\n",
    "    'January': 1, 'February': 2, 'March': 3, 'April': 4, 'May': 5, 'June': 6, 'July': 7, \n",
    "    \"August\": 8, 'September': 9 , 'October': 10, 'November': 11, 'December':12\n",
    "}\n",
    "master_2016 = master_2016.replace(dict_replace)\n",
    "master_2016.set_index('month', inplace = True)\n",
    "\n",
    "commingled_organic_monthly = commingled_organic.groupby('month').sum()\n",
    "commingled_organic_monthly.reset_index()\n",
    "comparison = commingled_organic.groupby('month').sum()\n",
    "comparison = comparison.join(board_poly_week[['Estimated weight of cardboard (kg)']], how = 'left')\n",
    "comparison.rename({\"Estimated weight of cardboard (kg)\": \"Total_cardboard_2016\"}, axis = 1, inplace = True)\n",
    "comparison = comparison.join(master_2016[['commingled_recycling', 'green_waste', 'cardboard']], \n",
    "                             how = 'left').drop(['week'], axis = 1)\n",
    "comparison['%commingled'] = comparison['Amounts of commingled waste'] / comparison['commingled_recycling'] / 1000 * 100\n",
    "comparison['%cardboard'] = comparison['Total_cardboard_2016'] / comparison['cardboard'] / 1000 * 100\n",
    "comparison['%organic'] = comparison['Amounts of organic waste'] / comparison['green_waste'] / 1000 * 100 * 7/(7+7+35)\n",
    "comparison"
   ]
  },
  {
   "cell_type": "markdown",
   "metadata": {},
   "source": [
    "## 6. Merging datasets for area chart"
   ]
  },
  {
   "cell_type": "code",
   "execution_count": 19,
   "metadata": {},
   "outputs": [],
   "source": [
    "area = commingled_organic_monthly.iloc[:, [0,1]].join(board_poly_week.iloc[:, [0,1]])\n",
    "area.columns = ['commingled', 'organic', 'polystyrene', 'cardboard']"
   ]
  },
  {
   "cell_type": "markdown",
   "metadata": {},
   "source": [
    "## Visualization"
   ]
  },
  {
   "cell_type": "markdown",
   "metadata": {},
   "source": [
    "## 1.Time series plot (monthly) of Degraves Center in 2016"
   ]
  },
  {
   "cell_type": "code",
   "execution_count": 20,
   "metadata": {},
   "outputs": [
    {
     "data": {
      "image/png": "[encoded data removed]",
      "text/plain": [
       "<Figure size 648x432 with 1 Axes>"
      ]
     },
     "metadata": {
      "needs_background": "light"
     },
     "output_type": "display_data"
    }
   ],
   "source": [
    "# Use 2 datasets created  before: commingled_organic_monthly and board_poly_week\n",
    "\n",
    "def plot_time_series(lst):\n",
    "    dataset = lst[0]\n",
    "    column  = lst[1]\n",
    "    label = lst[2]\n",
    "    color = lst[3]\n",
    "    plt.plot(dataset.index, dataset[column], color = color, label = label)\n",
    "    plt.scatter(dataset.index[:8], dataset[column][:8], color = 'black')\n",
    "    plt.scatter(dataset.index[8:], dataset[column][8:], color = 'black', marker = 'x', s = 120)  \n",
    "    plt.plot(dataset.index[8:], dataset[column][8:], color = color, linewidth = 6)\n",
    "    \n",
    "#commingled_organic_monthly = commingled_organic.groupby('month').sum()\n",
    "plt.figure(figsize = (9,6))\n",
    "\n",
    "\n",
    "drawing_commingled = (commingled_organic_monthly, 'Amounts of commingled waste', 'commingled', 'blue')\n",
    "drawing_organic = (commingled_organic_monthly, 'Amounts of organic waste' , 'organic', 'green')\n",
    "drawing_cardboard = (board_poly_week, 'Estimated weight of cardboard (kg)', 'cardboard', 'orange')\n",
    "drawing_poly = (board_poly_week, 'Weekly Estimated Total (kg)', 'poly', 'red')\n",
    "major_lst = [drawing_commingled, drawing_organic, drawing_cardboard, drawing_poly]\n",
    "for ele in major_lst:\n",
    "    plot_time_series(ele)\n",
    "\n",
    "plt.ylabel(\"Total amount of waste in kg\", fontsize = 16)\n",
    "plt.title(\"Amounts of monthly waste by categories in 2016 \", fontsize = 22, pad = 20)\n",
    "plt.xticks(np.arange(1,13),['Jan', 'Feb', 'Mar', 'Apr', 'May', 'Jun', 'Jul', 'Aug', 'Sep', 'Oct', 'Nov', 'Dec'])\n",
    "plt.legend(prop={'size': 10})\n",
    "plt.tight_layout()\n",
    "plt.savefig(\"Time series plot 2016 by categories\")"
   ]
  },
  {
   "cell_type": "markdown",
   "metadata": {},
   "source": [
    "## 2. Area chart (monthly) of Degraves Center in 2016"
   ]
  },
  {
   "cell_type": "code",
   "execution_count": 21,
   "metadata": {},
   "outputs": [
    {
     "data": {
      "image/png": "[encoded data removed]",
      "text/plain": [
       "<Figure size 648x432 with 1 Axes>"
      ]
     },
     "metadata": {
      "needs_background": "light"
     },
     "output_type": "display_data"
    }
   ],
   "source": [
    "# Utilise the dataset created before: area\n",
    "\n",
    "ax = area.plot.area(figsize = (9,6), stacked = True)\n",
    "plt.xticks(np.arange(1,13),['Jan', 'Feb', 'Mar', 'Apr', 'May', 'Jun', 'Jul', 'Aug', 'Sep', 'Oct', 'Nov', 'Dec'])\n",
    "plt.ylabel(\"Total amount of waste in kg\", fontsize = 16)\n",
    "plt.title(\"Amounts of monthly waste by categories in 2016 \", fontsize = 22, pad = 20)\n",
    "plt.xlabel(\"\")\n",
    "plt.legend(prop={'size': 10})\n",
    "plt.tight_layout()\n",
    "plt.savefig(\"Area chart 2016\")"
   ]
  },
  {
   "cell_type": "markdown",
   "metadata": {},
   "source": [
    "## 3. Pie chart showing the breakdown of waste in Degraves Center"
   ]
  },
  {
   "cell_type": "code",
   "execution_count": 22,
   "metadata": {},
   "outputs": [
    {
     "data": {
      "image/png": "[encoded data removed]",
      "text/plain": [
       "<Figure size 1152x720 with 1 Axes>"
      ]
     },
     "metadata": {},
     "output_type": "display_data"
    }
   ],
   "source": [
    "# Creating a bar chart to ananlyze recycling center's proportion based on the total amount of waste\n",
    "\"\"\"total_commingled_2016 = commingled_organic['Amounts of commingled waste'].sum(axis = 0)\n",
    "total_organic_2016 = commingled_organic['Amounts of organic waste'].sum(axis = 0)\n",
    "total_poly_2016 = board_poly['Weekly Estimated Total (kg)'].sum(axis = 0)\n",
    "total_cardboard_2016 = board_poly['Estimated weight of cardboard (kg)'].sum(axis = 0)\n",
    "values = [total_commingled_2016, total_organic_2016, total_poly_2016, total_cardboard_2016]\n",
    "waste_categories = ['commingled waste', 'Organic waste', 'Polystyrene', 'Cardboard']\n",
    "\"\"\"\n",
    "\n",
    "def make_piechart(values):\n",
    "    def piechart(prop):\n",
    "        total_sum = sum(values)\n",
    "        value = int(round(total_sum * prop /100.0))\n",
    "        return '{prop:.2f}%  ({value:d})'.format(prop=prop,value=value)\n",
    "    return piechart\n",
    "explode = (0,0,0,0.1)\n",
    "plt.figure(figsize = (16,10))\n",
    "plt.title(\"Proporion of recycling of each waste category in 2016\", fontsize = 36, pad = 20)\n",
    "plt.pie(values, explode= explode, labels = waste_categories, autopct= make_piechart(values), textprops={'fontsize': 20})\n",
    "plt.savefig(\"Breakdown of waste\")\n",
    "plt.tight_layout()\n",
    "plt.show()\n"
   ]
  },
  {
   "cell_type": "markdown",
   "metadata": {},
   "source": [
    "## 4. Assumptions about tourist season"
   ]
  },
  {
   "cell_type": "code",
   "execution_count": 23,
   "metadata": {},
   "outputs": [
    {
     "data": {
      "image/png": "[encoded data removed]",
      "text/plain": [
       "<Figure size 432x288 with 1 Axes>"
      ]
     },
     "metadata": {
      "needs_background": "light"
     },
     "output_type": "display_data"
    },
    {
     "data": {
      "image/png": "[encoded data removed]",
      "text/plain": [
       "<Figure size 432x288 with 1 Axes>"
      ]
     },
     "metadata": {
      "needs_background": "light"
     },
     "output_type": "display_data"
    },
    {
     "data": {
      "image/png": "[encoded data removed]",
      "text/plain": [
       "<Figure size 432x288 with 1 Axes>"
      ]
     },
     "metadata": {
      "needs_background": "light"
     },
     "output_type": "display_data"
    },
    {
     "data": {
      "image/png": "[encoded data removed]",
      "text/plain": [
       "<Figure size 432x288 with 1 Axes>"
      ]
     },
     "metadata": {
      "needs_background": "light"
     },
     "output_type": "display_data"
    }
   ],
   "source": [
    "# showcase the trends for commingledd waste and green waste\n",
    "\n",
    "master.sort_values('date', inplace = True)\n",
    "for i in range(2016,2018):\n",
    "    \n",
    "    answer = master[master['year'] == i][['date', 'commingled_recycling']]\n",
    "    plt.figure()\n",
    "    plt.plot(answer['date'], answer['commingled_recycling'])\n",
    "    plt.title(f\"Commingled waste in Melbourne ({i})\",  fontsize = 20, pad = 15)\n",
    "    #plt.ylabel(\"Tons\", fontsize = 15)\n",
    "    plt.tight_layout()\n",
    "    plt.savefig(f\"Commingled waste in Melbourne ({i})\")\n",
    "    \n",
    "for i in range(2016,2018):\n",
    "    answer = master[master['year'] == i][['date', 'green_waste']]\n",
    "    plt.figure()\n",
    "    plt.plot(answer['date'], answer['green_waste'], color = 'green')\n",
    "    plt.title(f\"Green waste in Melbourne ({i})\",  fontsize = 20, pad = 15)\n",
    "    plt.savefig(f\"Green waste in Melbourne ({i})\")"
   ]
  },
  {
   "cell_type": "markdown",
   "metadata": {},
   "source": [
    "## 5. Proportion of waste processed by Degraves with regard to the total amount of waste in Melbourne"
   ]
  },
  {
   "cell_type": "code",
   "execution_count": 24,
   "metadata": {},
   "outputs": [
    {
     "data": {
      "text/html": [
       "<div>\n",
       "<style scoped>\n",
       "    .dataframe tbody tr th:only-of-type {\n",
       "        vertical-align: middle;\n",
       "    }\n",
       "\n",
       "    .dataframe tbody tr th {\n",
       "        vertical-align: top;\n",
       "    }\n",
       "\n",
       "    .dataframe thead th {\n",
       "        text-align: right;\n",
       "    }\n",
       "</style>\n",
       "<table border=\"1\" class=\"dataframe\">\n",
       "  <thead>\n",
       "    <tr style=\"text-align: right;\">\n",
       "      <th></th>\n",
       "      <th>Amounts of commingled waste</th>\n",
       "      <th>Amounts of organic waste</th>\n",
       "      <th>Total_cardboard_2016</th>\n",
       "      <th>commingled_recycling</th>\n",
       "      <th>green_waste</th>\n",
       "      <th>cardboard</th>\n",
       "      <th>%commingled</th>\n",
       "      <th>%cardboard</th>\n",
       "      <th>%organic</th>\n",
       "    </tr>\n",
       "    <tr>\n",
       "      <th>month</th>\n",
       "      <th></th>\n",
       "      <th></th>\n",
       "      <th></th>\n",
       "      <th></th>\n",
       "      <th></th>\n",
       "      <th></th>\n",
       "      <th></th>\n",
       "      <th></th>\n",
       "      <th></th>\n",
       "    </tr>\n",
       "  </thead>\n",
       "  <tbody>\n",
       "    <tr>\n",
       "      <th>1</th>\n",
       "      <td>5669.422</td>\n",
       "      <td>3157.6</td>\n",
       "      <td>7250</td>\n",
       "      <td>715.00</td>\n",
       "      <td>3.60</td>\n",
       "      <td>176.38</td>\n",
       "      <td>0.792926</td>\n",
       "      <td>4.110443</td>\n",
       "      <td>12.530159</td>\n",
       "    </tr>\n",
       "    <tr>\n",
       "      <th>2</th>\n",
       "      <td>5005.979</td>\n",
       "      <td>3180.3</td>\n",
       "      <td>8250</td>\n",
       "      <td>708.31</td>\n",
       "      <td>5.56</td>\n",
       "      <td>196.96</td>\n",
       "      <td>0.706750</td>\n",
       "      <td>4.188668</td>\n",
       "      <td>8.171377</td>\n",
       "    </tr>\n",
       "    <tr>\n",
       "      <th>3</th>\n",
       "      <td>5548.796</td>\n",
       "      <td>3471.8</td>\n",
       "      <td>7000</td>\n",
       "      <td>749.20</td>\n",
       "      <td>1.68</td>\n",
       "      <td>201.34</td>\n",
       "      <td>0.740629</td>\n",
       "      <td>3.476706</td>\n",
       "      <td>29.522109</td>\n",
       "    </tr>\n",
       "    <tr>\n",
       "      <th>4</th>\n",
       "      <td>5729.735</td>\n",
       "      <td>2994.5</td>\n",
       "      <td>7250</td>\n",
       "      <td>672.57</td>\n",
       "      <td>5.28</td>\n",
       "      <td>189.00</td>\n",
       "      <td>0.851917</td>\n",
       "      <td>3.835979</td>\n",
       "      <td>8.102002</td>\n",
       "    </tr>\n",
       "    <tr>\n",
       "      <th>5</th>\n",
       "      <td>5367.857</td>\n",
       "      <td>2787.3</td>\n",
       "      <td>8000</td>\n",
       "      <td>702.07</td>\n",
       "      <td>3.08</td>\n",
       "      <td>199.68</td>\n",
       "      <td>0.764576</td>\n",
       "      <td>4.006410</td>\n",
       "      <td>12.928108</td>\n",
       "    </tr>\n",
       "  </tbody>\n",
       "</table>\n",
       "</div>"
      ],
      "text/plain": [
       "       Amounts of commingled waste  Amounts of organic waste  \\\n",
       "month                                                          \n",
       "1                         5669.422                    3157.6   \n",
       "2                         5005.979                    3180.3   \n",
       "3                         5548.796                    3471.8   \n",
       "4                         5729.735                    2994.5   \n",
       "5                         5367.857                    2787.3   \n",
       "\n",
       "       Total_cardboard_2016  commingled_recycling  green_waste  cardboard  \\\n",
       "month                                                                       \n",
       "1                      7250                715.00         3.60     176.38   \n",
       "2                      8250                708.31         5.56     196.96   \n",
       "3                      7000                749.20         1.68     201.34   \n",
       "4                      7250                672.57         5.28     189.00   \n",
       "5                      8000                702.07         3.08     199.68   \n",
       "\n",
       "       %commingled  %cardboard   %organic  \n",
       "month                                      \n",
       "1         0.792926    4.110443  12.530159  \n",
       "2         0.706750    4.188668   8.171377  \n",
       "3         0.740629    3.476706  29.522109  \n",
       "4         0.851917    3.835979   8.102002  \n",
       "5         0.764576    4.006410  12.928108  "
      ]
     },
     "execution_count": 24,
     "metadata": {},
     "output_type": "execute_result"
    }
   ],
   "source": [
    "comparison.head()"
   ]
  },
  {
   "cell_type": "code",
   "execution_count": 25,
   "metadata": {},
   "outputs": [
    {
     "data": {
      "image/png": "[encoded data removed]",
      "text/plain": [
       "<Figure size 432x288 with 1 Axes>"
      ]
     },
     "metadata": {
      "needs_background": "light"
     },
     "output_type": "display_data"
    },
    {
     "data": {
      "image/png": "[encoded data removed]",
      "text/plain": [
       "<Figure size 432x288 with 1 Axes>"
      ]
     },
     "metadata": {
      "needs_background": "light"
     },
     "output_type": "display_data"
    },
    {
     "data": {
      "image/png": "[encoded data removed]",
      "text/plain": [
       "<Figure size 432x288 with 1 Axes>"
      ]
     },
     "metadata": {
      "needs_background": "light"
     },
     "output_type": "display_data"
    }
   ],
   "source": [
    "def drawing_bar_chart(comparison, column):\n",
    "    plt.figure()\n",
    "    plt.bar(np.arange(12), np.ones(12)-comparison[f'%{column}']/100, color = 'teal')\n",
    "    plt.bar(np.arange(12), comparison[f'%{column}']/100, bottom = np.ones(12)-comparison[f'%{column}']/100, color = 'orange', label = column, )\n",
    "    #plt.text(np.arange(12), comparison['%organic']/100, 'hi')\n",
    "    lst1 = list(np.arange(12))\n",
    "    lst2 = list(1 - comparison[f'%{column}']/100/2)\n",
    "\n",
    "    for i in range(len(lst1)):\n",
    "        data = comparison[f'%{column}'][i+1]\n",
    "        plt.text(lst1[i]-0.30, lst2[i]-0.01, f\"{data:.0f}%\", size = 10)\n",
    "\n",
    "for ele in ('organic', 'cardboard', 'commingled'):\n",
    "    drawing_bar_chart(comparison, ele)\n",
    "    plt.xticks(np.arange(0,12),['Jan', 'Feb', 'Mar', 'Apr', 'May', 'Jun', 'Jul', 'Aug', 'Sep', 'Oct', 'Nov', 'Dec'])\n",
    "    plt.legend(prop={\"size\":10}, loc = 4)\n",
    "    plt.title(f\"{ele.capitalize()} waste processed by Degraves\", fontsize = 20, pad = 17)\n",
    "    plt.tight_layout()\n",
    "    plt.savefig(f\"{ele} contribution by Degraves\")"
   ]
  },
  {
   "cell_type": "code",
   "execution_count": 26,
   "metadata": {},
   "outputs": [
    {
     "data": {
      "image/png": "[encoded data removed]",
      "text/plain": [
       "<Figure size 432x288 with 1 Axes>"
      ]
     },
     "metadata": {
      "needs_background": "light"
     },
     "output_type": "display_data"
    }
   ],
   "source": [
    "CV = {\n",
    "    \"commingled\": comparison[\"Amounts of commingled waste\"].std() / comparison[\"Amounts of commingled waste\"].mean(),\n",
    "    \"organic\": comparison['Amounts of organic waste'].std() / comparison['Amounts of organic waste'].mean(),\n",
    "    \"cardboard\": comparison['cardboard'].std() / comparison['cardboard'].mean()\n",
    "}\n",
    "fig = plt.figure()\n",
    "ax = fig.add_axes([0, 1, 1, 1])\n",
    "waste_type = list(CV.keys())\n",
    "fl = list(CV.values())\n",
    "ax.bar(waste_type, fl)\n",
    "plt.title(\"Volatility of waste (2016)\", fontsize=19, pad=12)\n",
    "plt.xlabel(\"Waste Type\", fontsize=14)\n",
    "plt.ylabel(\"Coefficient of  Variation (%)\", fontsize=14)\n",
    "plt.savefig(\"Volatility of waste\")"
   ]
  },
  {
   "cell_type": "markdown",
   "metadata": {},
   "source": [
    "# Machine learning - Regression"
   ]
  },
  {
   "cell_type": "markdown",
   "metadata": {},
   "source": [
    "# 1. Future prediction for amounts of each waste category"
   ]
  },
  {
   "cell_type": "markdown",
   "metadata": {},
   "source": [
    "## a. Data preparation for model training"
   ]
  },
  {
   "cell_type": "code",
   "execution_count": 27,
   "metadata": {},
   "outputs": [
    {
     "data": {
      "text/html": [
       "<div>\n",
       "<style scoped>\n",
       "    .dataframe tbody tr th:only-of-type {\n",
       "        vertical-align: middle;\n",
       "    }\n",
       "\n",
       "    .dataframe tbody tr th {\n",
       "        vertical-align: top;\n",
       "    }\n",
       "\n",
       "    .dataframe thead th {\n",
       "        text-align: right;\n",
       "    }\n",
       "</style>\n",
       "<table border=\"1\" class=\"dataframe\">\n",
       "  <thead>\n",
       "    <tr style=\"text-align: right;\">\n",
       "      <th></th>\n",
       "      <th>date</th>\n",
       "      <th>residential</th>\n",
       "      <th>public_litter_bins</th>\n",
       "      <th>dumped_rubbish</th>\n",
       "      <th>street_sweepings</th>\n",
       "      <th>mattresses</th>\n",
       "      <th>commingled_recycling</th>\n",
       "      <th>cardboard</th>\n",
       "      <th>hardwaste_to_landfill</th>\n",
       "      <th>hardwaste_recovered</th>\n",
       "      <th>hardwaste_total</th>\n",
       "      <th>green_waste</th>\n",
       "      <th>month</th>\n",
       "      <th>year</th>\n",
       "    </tr>\n",
       "  </thead>\n",
       "  <tbody>\n",
       "    <tr>\n",
       "      <th>102</th>\n",
       "      <td>2009-04-01</td>\n",
       "      <td>1304.31</td>\n",
       "      <td>316.02</td>\n",
       "      <td>136.30</td>\n",
       "      <td>494.10</td>\n",
       "      <td>21</td>\n",
       "      <td>418.33</td>\n",
       "      <td>162.76</td>\n",
       "      <td>8.62</td>\n",
       "      <td>0.00</td>\n",
       "      <td>8.62</td>\n",
       "      <td>2.93</td>\n",
       "      <td>April</td>\n",
       "      <td>2009</td>\n",
       "    </tr>\n",
       "    <tr>\n",
       "      <th>5</th>\n",
       "      <td>2009-05-01</td>\n",
       "      <td>1249.74</td>\n",
       "      <td>330.36</td>\n",
       "      <td>169.98</td>\n",
       "      <td>691.28</td>\n",
       "      <td>0</td>\n",
       "      <td>376.02</td>\n",
       "      <td>168.52</td>\n",
       "      <td>14.82</td>\n",
       "      <td>0.00</td>\n",
       "      <td>14.82</td>\n",
       "      <td>2.79</td>\n",
       "      <td>May</td>\n",
       "      <td>2009</td>\n",
       "    </tr>\n",
       "    <tr>\n",
       "      <th>44</th>\n",
       "      <td>2009-06-01</td>\n",
       "      <td>1333.32</td>\n",
       "      <td>350.90</td>\n",
       "      <td>158.92</td>\n",
       "      <td>621.90</td>\n",
       "      <td>15</td>\n",
       "      <td>393.62</td>\n",
       "      <td>181.44</td>\n",
       "      <td>14.92</td>\n",
       "      <td>0.00</td>\n",
       "      <td>14.92</td>\n",
       "      <td>2.75</td>\n",
       "      <td>June</td>\n",
       "      <td>2009</td>\n",
       "    </tr>\n",
       "    <tr>\n",
       "      <th>70</th>\n",
       "      <td>2009-07-01</td>\n",
       "      <td>1405.98</td>\n",
       "      <td>389.32</td>\n",
       "      <td>149.02</td>\n",
       "      <td>605.42</td>\n",
       "      <td>125</td>\n",
       "      <td>397.68</td>\n",
       "      <td>181.80</td>\n",
       "      <td>16.26</td>\n",
       "      <td>0.00</td>\n",
       "      <td>16.26</td>\n",
       "      <td>3.18</td>\n",
       "      <td>July</td>\n",
       "      <td>2009</td>\n",
       "    </tr>\n",
       "    <tr>\n",
       "      <th>51</th>\n",
       "      <td>2009-08-01</td>\n",
       "      <td>1364.62</td>\n",
       "      <td>371.38</td>\n",
       "      <td>227.50</td>\n",
       "      <td>534.48</td>\n",
       "      <td>0</td>\n",
       "      <td>429.20</td>\n",
       "      <td>176.96</td>\n",
       "      <td>14.20</td>\n",
       "      <td>0.00</td>\n",
       "      <td>14.20</td>\n",
       "      <td>2.88</td>\n",
       "      <td>August</td>\n",
       "      <td>2009</td>\n",
       "    </tr>\n",
       "    <tr>\n",
       "      <th>...</th>\n",
       "      <td>...</td>\n",
       "      <td>...</td>\n",
       "      <td>...</td>\n",
       "      <td>...</td>\n",
       "      <td>...</td>\n",
       "      <td>...</td>\n",
       "      <td>...</td>\n",
       "      <td>...</td>\n",
       "      <td>...</td>\n",
       "      <td>...</td>\n",
       "      <td>...</td>\n",
       "      <td>...</td>\n",
       "      <td>...</td>\n",
       "      <td>...</td>\n",
       "    </tr>\n",
       "    <tr>\n",
       "      <th>122</th>\n",
       "      <td>2019-11-01</td>\n",
       "      <td>2662.94</td>\n",
       "      <td>334.60</td>\n",
       "      <td>89.04</td>\n",
       "      <td>310.10</td>\n",
       "      <td>422</td>\n",
       "      <td>748.99</td>\n",
       "      <td>106.64</td>\n",
       "      <td>76.18</td>\n",
       "      <td>29.93</td>\n",
       "      <td>106.11</td>\n",
       "      <td>10.76</td>\n",
       "      <td>November</td>\n",
       "      <td>2019</td>\n",
       "    </tr>\n",
       "    <tr>\n",
       "      <th>130</th>\n",
       "      <td>2019-12-01</td>\n",
       "      <td>2738.82</td>\n",
       "      <td>354.56</td>\n",
       "      <td>89.20</td>\n",
       "      <td>286.62</td>\n",
       "      <td>654</td>\n",
       "      <td>903.12</td>\n",
       "      <td>72.22</td>\n",
       "      <td>84.68</td>\n",
       "      <td>35.11</td>\n",
       "      <td>119.79</td>\n",
       "      <td>11.14</td>\n",
       "      <td>December</td>\n",
       "      <td>2019</td>\n",
       "    </tr>\n",
       "    <tr>\n",
       "      <th>131</th>\n",
       "      <td>2020-01-01</td>\n",
       "      <td>2608.78</td>\n",
       "      <td>379.94</td>\n",
       "      <td>99.44</td>\n",
       "      <td>293.90</td>\n",
       "      <td>460</td>\n",
       "      <td>872.40</td>\n",
       "      <td>74.58</td>\n",
       "      <td>99.50</td>\n",
       "      <td>27.28</td>\n",
       "      <td>126.78</td>\n",
       "      <td>9.06</td>\n",
       "      <td>January</td>\n",
       "      <td>2020</td>\n",
       "    </tr>\n",
       "    <tr>\n",
       "      <th>120</th>\n",
       "      <td>2020-02-01</td>\n",
       "      <td>2382.83</td>\n",
       "      <td>257.94</td>\n",
       "      <td>75.08</td>\n",
       "      <td>229.20</td>\n",
       "      <td>577</td>\n",
       "      <td>826.52</td>\n",
       "      <td>66.46</td>\n",
       "      <td>94.82</td>\n",
       "      <td>32.61</td>\n",
       "      <td>127.43</td>\n",
       "      <td>10.78</td>\n",
       "      <td>February</td>\n",
       "      <td>2020</td>\n",
       "    </tr>\n",
       "    <tr>\n",
       "      <th>127</th>\n",
       "      <td>2020-03-01</td>\n",
       "      <td>2627.32</td>\n",
       "      <td>254.42</td>\n",
       "      <td>101.06</td>\n",
       "      <td>268.64</td>\n",
       "      <td>782</td>\n",
       "      <td>890.26</td>\n",
       "      <td>56.36</td>\n",
       "      <td>105.64</td>\n",
       "      <td>38.40</td>\n",
       "      <td>144.04</td>\n",
       "      <td>12.40</td>\n",
       "      <td>March</td>\n",
       "      <td>2020</td>\n",
       "    </tr>\n",
       "  </tbody>\n",
       "</table>\n",
       "<p>132 rows × 14 columns</p>\n",
       "</div>"
      ],
      "text/plain": [
       "          date  residential  public_litter_bins  dumped_rubbish  \\\n",
       "102 2009-04-01      1304.31              316.02          136.30   \n",
       "5   2009-05-01      1249.74              330.36          169.98   \n",
       "44  2009-06-01      1333.32              350.90          158.92   \n",
       "70  2009-07-01      1405.98              389.32          149.02   \n",
       "51  2009-08-01      1364.62              371.38          227.50   \n",
       "..         ...          ...                 ...             ...   \n",
       "122 2019-11-01      2662.94              334.60           89.04   \n",
       "130 2019-12-01      2738.82              354.56           89.20   \n",
       "131 2020-01-01      2608.78              379.94           99.44   \n",
       "120 2020-02-01      2382.83              257.94           75.08   \n",
       "127 2020-03-01      2627.32              254.42          101.06   \n",
       "\n",
       "     street_sweepings  mattresses  commingled_recycling  cardboard  \\\n",
       "102            494.10          21                418.33     162.76   \n",
       "5              691.28           0                376.02     168.52   \n",
       "44             621.90          15                393.62     181.44   \n",
       "70             605.42         125                397.68     181.80   \n",
       "51             534.48           0                429.20     176.96   \n",
       "..                ...         ...                   ...        ...   \n",
       "122            310.10         422                748.99     106.64   \n",
       "130            286.62         654                903.12      72.22   \n",
       "131            293.90         460                872.40      74.58   \n",
       "120            229.20         577                826.52      66.46   \n",
       "127            268.64         782                890.26      56.36   \n",
       "\n",
       "     hardwaste_to_landfill  hardwaste_recovered  hardwaste_total  green_waste  \\\n",
       "102                   8.62                 0.00             8.62         2.93   \n",
       "5                    14.82                 0.00            14.82         2.79   \n",
       "44                   14.92                 0.00            14.92         2.75   \n",
       "70                   16.26                 0.00            16.26         3.18   \n",
       "51                   14.20                 0.00            14.20         2.88   \n",
       "..                     ...                  ...              ...          ...   \n",
       "122                  76.18                29.93           106.11        10.76   \n",
       "130                  84.68                35.11           119.79        11.14   \n",
       "131                  99.50                27.28           126.78         9.06   \n",
       "120                  94.82                32.61           127.43        10.78   \n",
       "127                 105.64                38.40           144.04        12.40   \n",
       "\n",
       "        month  year  \n",
       "102     April  2009  \n",
       "5         May  2009  \n",
       "44       June  2009  \n",
       "70       July  2009  \n",
       "51     August  2009  \n",
       "..        ...   ...  \n",
       "122  November  2019  \n",
       "130  December  2019  \n",
       "131   January  2020  \n",
       "120  February  2020  \n",
       "127     March  2020  \n",
       "\n",
       "[132 rows x 14 columns]"
      ]
     },
     "execution_count": 27,
     "metadata": {},
     "output_type": "execute_result"
    }
   ],
   "source": [
    "master"
   ]
  },
  {
   "cell_type": "code",
   "execution_count": 28,
   "metadata": {},
   "outputs": [],
   "source": [
    "from sklearn.linear_model import LinearRegression\n",
    "from sklearn.model_selection import train_test_split\n",
    "from sklearn.pipeline import Pipeline\n",
    "from sklearn.preprocessing import StandardScaler\n",
    "from sklearn.compose import ColumnTransformer\n",
    "from sklearn.impute import SimpleImputer\n",
    "\n",
    "y = master[['commingled_recycling']]\n",
    "\n",
    "num_columns = list(master[['date']])\n",
    "num_pipeline = Pipeline([\n",
    "    ('imputer', SimpleImputer(strategy = 'mean')), # Prepare for future missing values\n",
    "    ('standard_scaler', StandardScaler())\n",
    "])\n",
    "\n",
    "pipeline = ColumnTransformer([\n",
    "    ('numerical_values', num_pipeline, num_columns)\n",
    "])\n",
    "X = pipeline.fit_transform(master) \n",
    "X_train, X_test, y_train, y_test = train_test_split(X, y, test_size = 1/10, random_state = 0)"
   ]
  },
  {
   "cell_type": "markdown",
   "metadata": {},
   "source": [
    "## b. Training"
   ]
  },
  {
   "cell_type": "code",
   "execution_count": 29,
   "metadata": {},
   "outputs": [
    {
     "data": {
      "text/plain": [
       "RandomForestRegressor(random_state=0)"
      ]
     },
     "execution_count": 29,
     "metadata": {},
     "output_type": "execute_result"
    }
   ],
   "source": [
    "from sklearn.linear_model import LinearRegression\n",
    "from sklearn.model_selection import train_test_split\n",
    "from sklearn.preprocessing import StandardScaler\n",
    "from sklearn.svm import SVR\n",
    "from sklearn.ensemble import RandomForestRegressor\n",
    "\n",
    "linreg = LinearRegression()\n",
    "svr = SVR(kernel= 'poly', degree= 2)\n",
    "rf = RandomForestRegressor(random_state= 0)\n",
    "\n",
    "\n",
    "linreg.fit(X_train, y_train.values.ravel())\n",
    "svr.fit(X_train, y_train.values.ravel())\n",
    "rf.fit(X_train, y_train.values.ravel())\n"
   ]
  },
  {
   "cell_type": "markdown",
   "metadata": {},
   "source": [
    "## c. Evaluation"
   ]
  },
  {
   "cell_type": "code",
   "execution_count": 30,
   "metadata": {},
   "outputs": [
    {
     "data": {
      "image/png": "[encoded data removed]",
      "text/plain": [
       "<Figure size 432x288 with 1 Axes>"
      ]
     },
     "metadata": {
      "needs_background": "light"
     },
     "output_type": "display_data"
    }
   ],
   "source": [
    "plt.scatter(X_test, y_test, label = 'test')\n",
    "plt.scatter(X_test, linreg.predict(X_test), label = 'prediction')\n",
    "plt.legend()\n",
    "plt.title(\"Linear Regression\")\n",
    "plt.savefig('Linreg')"
   ]
  },
  {
   "cell_type": "code",
   "execution_count": 31,
   "metadata": {},
   "outputs": [
    {
     "data": {
      "image/png": "[encoded data removed]",
      "text/plain": [
       "<Figure size 432x288 with 1 Axes>"
      ]
     },
     "metadata": {
      "needs_background": "light"
     },
     "output_type": "display_data"
    }
   ],
   "source": [
    "plt.scatter(X_test, y_test, label = 'test')\n",
    "plt.scatter(X_test, svr.predict(X_test), label = 'prediction')\n",
    "plt.legend()\n",
    "plt.title(\"SVR\")\n",
    "plt.savefig('SVR')"
   ]
  },
  {
   "cell_type": "code",
   "execution_count": 32,
   "metadata": {},
   "outputs": [
    {
     "data": {
      "image/png": "[encoded data removed]",
      "text/plain": [
       "<Figure size 432x288 with 1 Axes>"
      ]
     },
     "metadata": {
      "needs_background": "light"
     },
     "output_type": "display_data"
    }
   ],
   "source": [
    "plt.scatter(X_test, y_test, label = 'test')\n",
    "plt.scatter(X_test, rf.predict(X_test), label = 'prediction')\n",
    "plt.legend()\n",
    "plt.title(\"RandomForest Regression\")\n",
    "plt.savefig(\"RandomForest Regression\")\n",
    "plt.show()"
   ]
  },
  {
   "cell_type": "markdown",
   "metadata": {},
   "source": [
    "## d. Tuning hyperparameters"
   ]
  },
  {
   "cell_type": "code",
   "execution_count": 33,
   "metadata": {},
   "outputs": [
    {
     "data": {
      "text/plain": [
       "{'max_depth': 6, 'n_estimators': 15}"
      ]
     },
     "execution_count": 33,
     "metadata": {},
     "output_type": "execute_result"
    }
   ],
   "source": [
    "# fine-tune model\n",
    "params = [\n",
    "    {'n_estimators': [5,10,15], 'max_depth' : [2,4,6]}\n",
    "]\n",
    "rf = RandomForestRegressor()\n",
    "from sklearn.model_selection import GridSearchCV\n",
    "grid = GridSearchCV(rf, param_grid= params, scoring = 'neg_mean_squared_error', cv = 5, return_train_score= True)\n",
    "grid.fit(X_train, y_train.values.ravel())\n",
    "grid.best_params_"
   ]
  },
  {
   "cell_type": "code",
   "execution_count": 34,
   "metadata": {},
   "outputs": [],
   "source": [
    "rf = RandomForestRegressor(n_estimators= 15, max_depth= 6)\n",
    "rf.fit(X_train, y_train.values.ravel())\n",
    "y_test = rf.predict(X_test)"
   ]
  },
  {
   "cell_type": "markdown",
   "metadata": {},
   "source": [
    "## e. Re-evaluation"
   ]
  },
  {
   "cell_type": "code",
   "execution_count": 35,
   "metadata": {},
   "outputs": [
    {
     "data": {
      "image/png": "[encoded data removed]",
      "text/plain": [
       "<Figure size 432x288 with 1 Axes>"
      ]
     },
     "metadata": {
      "needs_background": "light"
     },
     "output_type": "display_data"
    }
   ],
   "source": [
    "plt.scatter(X_test, y_test, label = 'test')\n",
    "plt.scatter(X_test, rf.predict(X_test), label = 'prediction')\n",
    "plt.legend()\n",
    "plt.title(\"Randomforest Regression on test set (adjusted parameters)\")\n",
    "plt.tight_layout()\n",
    "plt.savefig(\"Tuning\")\n",
    "plt.show()"
   ]
  },
  {
   "cell_type": "markdown",
   "metadata": {},
   "source": [
    "# f. Future prediction"
   ]
  },
  {
   "cell_type": "code",
   "execution_count": 36,
   "metadata": {},
   "outputs": [],
   "source": [
    "sample_test = master.copy()\n",
    "sample_test = sample_test.iloc[:1, :]\n",
    "sample_test['date'] = pd.to_datetime(\"2017-05-01\")\n",
    "\n",
    "sample_test_transformed = pipeline.transform(sample_test)\n",
    "sample_test_transformed\n",
    "commingled_2017 = rf.predict(sample_test_transformed)"
   ]
  },
  {
   "cell_type": "markdown",
   "metadata": {},
   "source": [
    "# 2. Given an amount of waste of each category, predict proportion"
   ]
  },
  {
   "cell_type": "markdown",
   "metadata": {},
   "source": [
    "## a. Overview  of dataset"
   ]
  },
  {
   "cell_type": "code",
   "execution_count": 37,
   "metadata": {},
   "outputs": [
    {
     "data": {
      "text/plain": [
       "array([[ 1.        , -0.62922935],\n",
       "       [-0.62922935,  1.        ]])"
      ]
     },
     "execution_count": 37,
     "metadata": {},
     "output_type": "execute_result"
    },
    {
     "data": {
      "image/png": "[encoded data removed]",
      "text/plain": [
       "<Figure size 432x288 with 1 Axes>"
      ]
     },
     "metadata": {
      "needs_background": "light"
     },
     "output_type": "display_data"
    }
   ],
   "source": [
    "comparison\n",
    "plt.scatter(comparison['commingled_recycling'], comparison['%commingled'])\n",
    "np.corrcoef(comparison['commingled_recycling'], comparison['%commingled'])"
   ]
  },
  {
   "cell_type": "markdown",
   "metadata": {},
   "source": [
    "## b. Training "
   ]
  },
  {
   "cell_type": "code",
   "execution_count": 38,
   "metadata": {},
   "outputs": [
    {
     "data": {
      "text/plain": [
       "LinearRegression()"
      ]
     },
     "execution_count": 38,
     "metadata": {},
     "output_type": "execute_result"
    }
   ],
   "source": [
    "# Data Preparation is no longer required because of data wrangling methods in advance\n",
    "# Building models\n",
    "from sklearn.linear_model import LinearRegression\n",
    "X = comparison[['commingled_recycling']].values\n",
    "y = comparison[['%commingled']].values\n",
    "linreg_percent = LinearRegression()\n",
    "linreg_percent.fit(X, y)\n"
   ]
  },
  {
   "cell_type": "code",
   "execution_count": 39,
   "metadata": {},
   "outputs": [
    {
     "data": {
      "text/plain": [
       "<matplotlib.collections.PathCollection at 0x19f4a321fd0>"
      ]
     },
     "execution_count": 39,
     "metadata": {},
     "output_type": "execute_result"
    },
    {
     "data": {
      "image/png": "[encoded data removed]",
      "text/plain": [
       "<Figure size 432x288 with 1 Axes>"
      ]
     },
     "metadata": {
      "needs_background": "light"
     },
     "output_type": "display_data"
    }
   ],
   "source": [
    "plt.scatter(comparison['commingled_recycling'], comparison['%commingled'])\n",
    "plt.scatter(comparison['commingled_recycling'], linreg_percent.predict(X))"
   ]
  },
  {
   "cell_type": "code",
   "execution_count": 40,
   "metadata": {},
   "outputs": [
    {
     "data": {
      "text/plain": [
       "array([[0.70454982]])"
      ]
     },
     "execution_count": 40,
     "metadata": {},
     "output_type": "execute_result"
    }
   ],
   "source": [
    "# Prediction\n",
    "proportion_2017 = linreg_percent.predict([commingled_2017])\n",
    "proportion_2017"
   ]
  },
  {
   "cell_type": "markdown",
   "metadata": {},
   "source": [
    "# Limitations\n",
    "1. Model performs very well on test set\n",
    "2. Too small amount of data for random foreest regression, might lead to overfitting\n",
    "2. Too small amount of data for this recycling data --> if more data is collected, then can make predictions for more distant future (2030) --> nly make prediction ofr 2017\n",
    "3. In the future, when we have more data --> can predict even further and make assumptiosn about this dataset"
   ]
  }
 ],
 "metadata": {
  "interpreter": {
   "hash": "d4bf3da5a6e9e95f7ef3ea5e36ad60f60b586d40efae7b33bfb02aed48675640"
  },
  "kernelspec": {
   "display_name": "Python 3",
   "language": "python",
   "name": "python3"
  },
  "language_info": {
   "codemirror_mode": {
    "name": "ipython",
    "version": 3
   },
   "file_extension": ".py",
   "mimetype": "text/x-python",
   "name": "python",
   "nbconvert_exporter": "python",
   "pygments_lexer": "ipython3",
   "version": "3.8.5"
  }
 },
 "nbformat": 4,
 "nbformat_minor": 4
}
